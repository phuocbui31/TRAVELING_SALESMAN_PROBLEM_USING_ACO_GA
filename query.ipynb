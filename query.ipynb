{
 "cells": [
  {
   "cell_type": "code",
   "execution_count": 2,
   "id": "bd175eff",
   "metadata": {},
   "outputs": [],
   "source": [
    "import numpy as np\n",
    "import json"
   ]
  },
  {
   "cell_type": "code",
   "execution_count": 3,
   "id": "c1cd095c",
   "metadata": {},
   "outputs": [],
   "source": [
    "def read_json_to_dict(file_path):\n",
    "    try:\n",
    "        with open(file_path, 'r', encoding='utf-8') as file:\n",
    "            data = json.load(file)\n",
    "        return data\n",
    "    except FileNotFoundError:\n",
    "        print(f\"Không tìm thấy file: {file_path}\")\n",
    "        return None\n",
    "    except json.JSONDecodeError:\n",
    "        print(\"Lỗi định dạng JSON trong file\")\n",
    "        return None\n",
    "    except Exception as e:\n",
    "        print(f\"Lỗi: {str(e)}\")\n",
    "        return None"
   ]
  },
  {
   "cell_type": "code",
   "execution_count": 48,
   "id": "d97c15c4",
   "metadata": {},
   "outputs": [],
   "source": [
    "def calculate(dict_, file_name):\n",
    "    global_bests = []\n",
    "    times = []\n",
    "\n",
    "    for key in dict_:\n",
    "        global_bests.append(dict_[key]['best_distance'])\n",
    "        times.append(dict_[key]['fit_time'])\n",
    "\n",
    "    best_cost = min(global_bests)\n",
    "    avg_cost = np.mean(global_bests)\n",
    "    avg_time = np.mean(times)\n",
    "    std_cost = np.std(global_bests)\n",
    "    print(f'Data {file_name}:')\n",
    "    print(f'Best cost: {best_cost}\\tAverage cost: {avg_cost}\\tAverage time: {avg_time}')\n",
    "    print(f'Std: {std_cost}')\n",
    "    return best_cost, avg_cost, avg_time, std_cost, global_bests\n"
   ]
  },
  {
   "cell_type": "markdown",
   "id": "20e1b54a",
   "metadata": {},
   "source": [
    "data eil51"
   ]
  },
  {
   "cell_type": "code",
   "execution_count": 49,
   "id": "07832885",
   "metadata": {},
   "outputs": [
    {
     "name": "stdout",
     "output_type": "stream",
     "text": [
      "Data eil51:\n",
      "Best cost: 426.0\tAverage cost: 430.2\tAverage time: 38.3\n",
      "Std: 2.9257477676655586\n"
     ]
    },
    {
     "data": {
      "text/plain": [
       "(426.0,\n",
       " 430.2,\n",
       " 38.3,\n",
       " 2.9257477676655586,\n",
       " [436.0,\n",
       "  428.0,\n",
       "  427.0,\n",
       "  433.0,\n",
       "  429.0,\n",
       "  431.0,\n",
       "  430.0,\n",
       "  428.0,\n",
       "  430.0,\n",
       "  426.0,\n",
       "  428.0,\n",
       "  433.0,\n",
       "  427.0,\n",
       "  434.0,\n",
       "  428.0,\n",
       "  428.0,\n",
       "  430.0,\n",
       "  436.0,\n",
       "  433.0,\n",
       "  429.0])"
      ]
     },
     "execution_count": 49,
     "metadata": {},
     "output_type": "execute_result"
    }
   ],
   "source": [
    "dict_eil51 = read_json_to_dict('results/two-opt-until-not-improve/output_eil51_1.json')\n",
    "calculate(dict_eil51, 'eil51')"
   ]
  },
  {
   "cell_type": "markdown",
   "id": "a7929f9d",
   "metadata": {},
   "source": [
    "data eil76"
   ]
  },
  {
   "cell_type": "code",
   "execution_count": 33,
   "id": "e588af01",
   "metadata": {},
   "outputs": [
    {
     "name": "stdout",
     "output_type": "stream",
     "text": [
      "Data eil76:\n",
      "Best cost: 539.0\tAverage cost: 544.6\tAverage time: 162.3\n",
      "Std: 3.136877428271624\n"
     ]
    },
    {
     "data": {
      "text/plain": [
       "(539.0, 544.6, 162.3, 3.136877428271624)"
      ]
     },
     "execution_count": 33,
     "metadata": {},
     "output_type": "execute_result"
    }
   ],
   "source": [
    "dict_eil76 = read_json_to_dict('results/two-opt-until-not-improve/output_eil76_1.json')\n",
    "calculate(dict_eil76, 'eil76')"
   ]
  },
  {
   "cell_type": "markdown",
   "id": "173cd0a6",
   "metadata": {},
   "source": [
    "data kroA100"
   ]
  },
  {
   "cell_type": "code",
   "execution_count": 34,
   "id": "7e0444d9",
   "metadata": {},
   "outputs": [
    {
     "name": "stdout",
     "output_type": "stream",
     "text": [
      "Data kroA100:\n",
      "Best cost: 21282.0\tAverage cost: 21346.85\tAverage time: 214.75\n",
      "Std: 63.83045903015268\n"
     ]
    },
    {
     "data": {
      "text/plain": [
       "(21282.0, 21346.85, 214.75, 63.83045903015268)"
      ]
     },
     "execution_count": 34,
     "metadata": {},
     "output_type": "execute_result"
    }
   ],
   "source": [
    "dict_kroA100 = read_json_to_dict('results/two-opt-until-not-improve/output_kroA100_1.json')\n",
    "calculate(dict_kroA100, 'kroA100')"
   ]
  },
  {
   "cell_type": "markdown",
   "id": "35355941",
   "metadata": {},
   "source": [
    "data ch150"
   ]
  },
  {
   "cell_type": "code",
   "execution_count": 35,
   "id": "616a4b37",
   "metadata": {},
   "outputs": [
    {
     "name": "stdout",
     "output_type": "stream",
     "text": [
      "Data ch150:\n",
      "Best cost: 6554.0\tAverage cost: 6579.6\tAverage time: 334.2\n",
      "Std: 24.822167512125127\n"
     ]
    },
    {
     "data": {
      "text/plain": [
       "(6554.0, 6579.6, 334.2, 24.822167512125127)"
      ]
     },
     "execution_count": 35,
     "metadata": {},
     "output_type": "execute_result"
    }
   ],
   "source": [
    "dict_ch150 = read_json_to_dict('results/two-opt-until-not-improve/output_ch150_1.json')\n",
    "calculate(dict_ch150, 'ch150')"
   ]
  },
  {
   "cell_type": "markdown",
   "id": "2c6613a1",
   "metadata": {},
   "source": [
    "data kroA200"
   ]
  },
  {
   "cell_type": "code",
   "execution_count": 36,
   "id": "eb6803a2",
   "metadata": {},
   "outputs": [
    {
     "name": "stdout",
     "output_type": "stream",
     "text": [
      "Data kroA200:\n",
      "Best cost: 29462.0\tAverage cost: 29613.65\tAverage time: 805.75\n",
      "Std: 154.21001102392802\n"
     ]
    },
    {
     "data": {
      "text/plain": [
       "(29462.0, 29613.65, 805.75, 154.21001102392802)"
      ]
     },
     "execution_count": 36,
     "metadata": {},
     "output_type": "execute_result"
    }
   ],
   "source": [
    "dict_kroA200 = read_json_to_dict('results/two-opt-until-not-improve/output_kroA200_1.json')\n",
    "calculate(dict_kroA200, 'kroA200')"
   ]
  },
  {
   "cell_type": "markdown",
   "id": "45ca07fa",
   "metadata": {},
   "source": [
    "data pr264"
   ]
  },
  {
   "cell_type": "code",
   "execution_count": 37,
   "id": "3686480c",
   "metadata": {},
   "outputs": [
    {
     "name": "stdout",
     "output_type": "stream",
     "text": [
      "Data pr264:\n",
      "Best cost: 49135.0\tAverage cost: 49292.2\tAverage time: 1960.2\n",
      "Std: 201.93999108646113\n"
     ]
    },
    {
     "data": {
      "text/plain": [
       "(49135.0, 49292.2, 1960.2, 201.93999108646113)"
      ]
     },
     "execution_count": 37,
     "metadata": {},
     "output_type": "execute_result"
    }
   ],
   "source": [
    "dict_pr264 = read_json_to_dict('results/two-opt-until-not-improve/output_pr264_05.json')\n",
    "calculate(dict_pr264, 'pr264')"
   ]
  },
  {
   "cell_type": "markdown",
   "id": "e2a0dab4",
   "metadata": {},
   "source": [
    "data lin318"
   ]
  },
  {
   "cell_type": "code",
   "execution_count": 38,
   "id": "0ee837f9",
   "metadata": {},
   "outputs": [
    {
     "name": "stdout",
     "output_type": "stream",
     "text": [
      "Data lin318:\n",
      "Best cost: 42136.0\tAverage cost: 42535.3\tAverage time: 3645.9\n",
      "Std: 171.73587278143142\n"
     ]
    },
    {
     "data": {
      "text/plain": [
       "(42136.0, 42535.3, 3645.9, 171.73587278143142)"
      ]
     },
     "execution_count": 38,
     "metadata": {},
     "output_type": "execute_result"
    }
   ],
   "source": [
    "dict_lin318 = read_json_to_dict('results/two-opt-until-not-improve/output_lin318_1.json')\n",
    "calculate(dict_lin318, 'lin318')"
   ]
  },
  {
   "cell_type": "markdown",
   "id": "b99ce9cd",
   "metadata": {},
   "source": [
    "data rd400"
   ]
  },
  {
   "cell_type": "code",
   "execution_count": 44,
   "id": "d920a33f",
   "metadata": {},
   "outputs": [
    {
     "name": "stdout",
     "output_type": "stream",
     "text": [
      "Data rd400:\n",
      "Best cost: 15605.0\tAverage cost: 15698.8\tAverage time: 6990.8\n",
      "Std: 70.47098693788814\n",
      "Data rd400:\n",
      "Best cost: 15486.0\tAverage cost: 15595.7\tAverage time: 7574.8\n",
      "Std: 128.1764799017355\n"
     ]
    }
   ],
   "source": [
    "dict_rd400 = read_json_to_dict('results/output_rd400_05.json')\n",
    "best_cost1, avg_cost1, avg_time1, std_cost1, global_bests1 = calculate(dict_rd400, 'rd400')\n",
    "\n",
    "# Lấy thêm data từ file text\n",
    "\n",
    "global_bests = [15367, 15611, 15467, 15542, 15476]\n",
    "times = [9767, 6432, 7734, 7562, 9299]\n",
    "\n",
    "best_cost = (best_cost1 + np.min(global_bests)) / 2\n",
    "avg_cost = (avg_cost1 + np.mean(global_bests)) / 2\n",
    "avg_time = (avg_time1 + np.mean(times)) / 2\n",
    "std_cost = np.std(np.append(global_bests1, global_bests))\n",
    "\n",
    "print(f'Data rd400:')\n",
    "print(f'Best cost: {best_cost}\\tAverage cost: {avg_cost}\\tAverage time: {avg_time}')\n",
    "print(f'Std: {std_cost}')"
   ]
  },
  {
   "cell_type": "markdown",
   "id": "72aaa760",
   "metadata": {},
   "source": [
    "data pr439"
   ]
  },
  {
   "cell_type": "code",
   "execution_count": 39,
   "id": "37752c88",
   "metadata": {},
   "outputs": [
    {
     "name": "stdout",
     "output_type": "stream",
     "text": [
      "Data pr439:\n",
      "Best cost: 108835.0\tAverage cost: 110896.2\tAverage time: 1342.0\n",
      "Std: 1096.4848197763615\n"
     ]
    },
    {
     "data": {
      "text/plain": [
       "(108835.0, 110896.2, 1342.0, 1096.4848197763615)"
      ]
     },
     "execution_count": 39,
     "metadata": {},
     "output_type": "execute_result"
    }
   ],
   "source": [
    "dict_pr439 = read_json_to_dict('results/output_pr439_1.json')\n",
    "calculate(dict_pr439, 'pr439')"
   ]
  },
  {
   "cell_type": "markdown",
   "id": "1cfb55b9",
   "metadata": {},
   "source": [
    "data rat575"
   ]
  },
  {
   "cell_type": "code",
   "execution_count": 40,
   "id": "86fa4cf5",
   "metadata": {},
   "outputs": [
    {
     "name": "stdout",
     "output_type": "stream",
     "text": [
      "Data rat575:\n",
      "Best cost: 7026.0\tAverage cost: 7062.2\tAverage time: 1642.7\n",
      "Std: 29.095704150269327\n"
     ]
    },
    {
     "data": {
      "text/plain": [
       "(7026.0, 7062.2, 1642.7, 29.095704150269327)"
      ]
     },
     "execution_count": 40,
     "metadata": {},
     "output_type": "execute_result"
    }
   ],
   "source": [
    "dict_rat575 = read_json_to_dict('results/two-opt-until-not-improve/output_rat575_02.json')\n",
    "calculate(dict_rat575, 'rat575')"
   ]
  },
  {
   "cell_type": "markdown",
   "id": "d26f35e2",
   "metadata": {},
   "source": [
    "Lấy global bests của data eil51"
   ]
  },
  {
   "cell_type": "code",
   "execution_count": null,
   "id": "571e33b0",
   "metadata": {},
   "outputs": [],
   "source": [
    "def get_infor(dict_, file_name):\n",
    "    global_bests_matrix = []\n",
    "    times = []\n",
    "\n",
    "    for key in dict_:\n",
    "        global_bests_matrix.append(dict_[key]['global_bests'])\n",
    "    print(f'Data: {file_name}')\n",
    "    return global_bests_matrix"
   ]
  },
  {
   "cell_type": "code",
   "execution_count": 58,
   "id": "f20c6a3a",
   "metadata": {},
   "outputs": [
    {
     "name": "stdout",
     "output_type": "stream",
     "text": [
      "Data: eil51\n"
     ]
    }
   ],
   "source": [
    "dict_eil51 = read_json_to_dict('results/two-opt-until-not-improve/output_eil51_1.json')\n",
    "global_bests = get_infor(dict_eil51, 'eil51')[0]\n",
    "np.save(arr=global_bests, file='global_bests/eil51.npy')"
   ]
  },
  {
   "cell_type": "markdown",
   "id": "619106d3",
   "metadata": {},
   "source": [
    "Lấy global bests của data kroA200"
   ]
  },
  {
   "cell_type": "code",
   "execution_count": 61,
   "id": "d1723775",
   "metadata": {},
   "outputs": [
    {
     "name": "stdout",
     "output_type": "stream",
     "text": [
      "Data: kroA200\n"
     ]
    }
   ],
   "source": [
    "dict_kroA200 = read_json_to_dict('results/two-opt-until-not-improve/output_kroA200_1.json')\n",
    "global_bests = get_infor(dict_kroA200, 'kroA200')[0]\n",
    "np.save(arr=global_bests, file='global_bests/kroA200.npy')"
   ]
  },
  {
   "cell_type": "markdown",
   "id": "b1925e42",
   "metadata": {},
   "source": [
    "Lấy global bests của data kroA200"
   ]
  },
  {
   "cell_type": "code",
   "execution_count": 71,
   "id": "f2010ef9",
   "metadata": {},
   "outputs": [
    {
     "name": "stdout",
     "output_type": "stream",
     "text": [
      "Data: rd400\n"
     ]
    }
   ],
   "source": [
    "dict_rd400 = read_json_to_dict('results/output_rd400_05.json')\n",
    "global_bests = get_infor(dict_rd400, 'rd400')[2]\n",
    "np.save(arr=global_bests, file='global_bests/rd400.npy')"
   ]
  }
 ],
 "metadata": {
  "kernelspec": {
   "display_name": "base",
   "language": "python",
   "name": "python3"
  },
  "language_info": {
   "codemirror_mode": {
    "name": "ipython",
    "version": 3
   },
   "file_extension": ".py",
   "mimetype": "text/x-python",
   "name": "python",
   "nbconvert_exporter": "python",
   "pygments_lexer": "ipython3",
   "version": "3.12.7"
  }
 },
 "nbformat": 4,
 "nbformat_minor": 5
}
